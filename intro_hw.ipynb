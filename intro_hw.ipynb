{
  "nbformat": 4,
  "nbformat_minor": 0,
  "metadata": {
    "colab": {
      "name": "intro hw",
      "provenance": [],
      "collapsed_sections": []
    },
    "kernelspec": {
      "name": "python3",
      "display_name": "Python 3"
    },
    "language_info": {
      "name": "python"
    }
  },
  "cells": [
    {
      "cell_type": "code",
      "metadata": {
        "id": "qgeg9TEzv4uI"
      },
      "source": [
        "#Enter first and last name\n",
        "names = input(\"Enter first and last name\")\n",
        "print(names)\n",
        "print()\n",
        "#Enter your goals for this class\n",
        "print(\"What are your goals for this class - long term goals?\")\n",
        "goals = input('What would you like to be....when all is said and done with the class?')\n",
        "print(goals)"
      ],
      "execution_count": null,
      "outputs": []
    },
    {
      "cell_type": "code",
      "metadata": {
        "colab": {
          "base_uri": "https://localhost:8080/"
        },
        "id": "PRrRwI1dxqdd",
        "outputId": "713df7ba-4283-41ff-bba2-057e0a513b75"
      },
      "source": [
        "#enter first and last name\n",
        "names= ('Njeri Wagura')\n",
        "print (names)\n",
        "print ()\n",
        "#enter your goals for this class\n",
        "print(\"what are your goals for this class - long term goals?\")\n",
        "goals = (\"to be great at python programming and long term career change\")\n",
        "print (goals)\n"
      ],
      "execution_count": 9,
      "outputs": [
        {
          "output_type": "stream",
          "text": [
            "Njeri Wagura\n",
            "\n",
            "what are your goals for this class - long term goals?\n",
            "to be great at python programming and long term career change\n"
          ],
          "name": "stdout"
        }
      ]
    },
    {
      "cell_type": "markdown",
      "metadata": {
        "id": "6AvwAf5hx2mv"
      },
      "source": [
        ""
      ]
    },
    {
      "cell_type": "code",
      "metadata": {
        "id": "1bTE2nit23Sf"
      },
      "source": [
        ""
      ],
      "execution_count": null,
      "outputs": []
    }
  ]
}